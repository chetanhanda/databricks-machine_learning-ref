{
  "nbformat": 4,
  "nbformat_minor": 0,
  "metadata": {
    "colab": {
      "provenance": [],
      "authorship_tag": "ABX9TyNdB+FADuxsXoHPkPTZdmhW",
      "include_colab_link": true
    },
    "kernelspec": {
      "name": "python3",
      "display_name": "Python 3"
    },
    "language_info": {
      "name": "python"
    }
  },
  "cells": [
    {
      "cell_type": "markdown",
      "metadata": {
        "id": "view-in-github",
        "colab_type": "text"
      },
      "source": [
        "<a href=\"https://colab.research.google.com/github/chetanhanda/databricks-machine_learning-ref/blob/main/Untitled1.ipynb\" target=\"_parent\"><img src=\"https://colab.research.google.com/assets/colab-badge.svg\" alt=\"Open In Colab\"/></a>"
      ]
    },
    {
      "cell_type": "code",
      "execution_count": 25,
      "metadata": {
        "colab": {
          "base_uri": "https://localhost:8080/",
          "height": 485
        },
        "id": "lRJOXd_bKD-e",
        "outputId": "54f72b78-4031-4993-e413-2a511f3077a5"
      },
      "outputs": [
        {
          "output_type": "stream",
          "name": "stdout",
          "text": [
            "Welcome to the Interactive Alien Assault Simulator\n",
            "In Cooperation with the government\n",
            "We assume that you have purchased/installed this program due to the alien presence around your school, and you want to know what to do to lower property damage and insurance fees.\n",
            "To start, let's take the Lynn Rose College Campus as the school.\n",
            "Suppose you want to detect if any aliens are near your school. What should you do?\n"
          ]
        },
        {
          "output_type": "error",
          "ename": "KeyboardInterrupt",
          "evalue": "Interrupted by user",
          "traceback": [
            "\u001b[0;31m---------------------------------------------------------------------------\u001b[0m",
            "\u001b[0;31mKeyboardInterrupt\u001b[0m                         Traceback (most recent call last)",
            "\u001b[0;32m<ipython-input-25-67ba27cf29c2>\u001b[0m in \u001b[0;36m<cell line: 13>\u001b[0;34m()\u001b[0m\n\u001b[1;32m     12\u001b[0m \u001b[0;31m#while true creates a reliable loop.\u001b[0m\u001b[0;34m\u001b[0m\u001b[0;34m\u001b[0m\u001b[0m\n\u001b[1;32m     13\u001b[0m \u001b[0;32mwhile\u001b[0m \u001b[0;32mTrue\u001b[0m\u001b[0;34m:\u001b[0m\u001b[0;34m\u001b[0m\u001b[0;34m\u001b[0m\u001b[0m\n\u001b[0;32m---> 14\u001b[0;31m     \u001b[0mq1a\u001b[0m \u001b[0;34m=\u001b[0m \u001b[0minput\u001b[0m\u001b[0;34m(\u001b[0m\u001b[0;34m\"Enter your response here: \"\u001b[0m\u001b[0;34m)\u001b[0m\u001b[0;34m\u001b[0m\u001b[0;34m\u001b[0m\u001b[0m\n\u001b[0m\u001b[1;32m     15\u001b[0m     \u001b[0;31m#space for adding responsdes\u001b[0m\u001b[0;34m\u001b[0m\u001b[0;34m\u001b[0m\u001b[0m\n\u001b[1;32m     16\u001b[0m     \u001b[0;32mif\u001b[0m \u001b[0;34m\"camera\"\u001b[0m \u001b[0;32min\u001b[0m \u001b[0mq1a\u001b[0m\u001b[0;34m.\u001b[0m\u001b[0mlower\u001b[0m\u001b[0;34m(\u001b[0m\u001b[0;34m)\u001b[0m\u001b[0;34m:\u001b[0m\u001b[0;34m\u001b[0m\u001b[0;34m\u001b[0m\u001b[0m\n",
            "\u001b[0;32m/usr/local/lib/python3.10/dist-packages/ipykernel/kernelbase.py\u001b[0m in \u001b[0;36mraw_input\u001b[0;34m(self, prompt)\u001b[0m\n\u001b[1;32m    849\u001b[0m                 \u001b[0;34m\"raw_input was called, but this frontend does not support input requests.\"\u001b[0m\u001b[0;34m\u001b[0m\u001b[0;34m\u001b[0m\u001b[0m\n\u001b[1;32m    850\u001b[0m             )\n\u001b[0;32m--> 851\u001b[0;31m         return self._input_request(str(prompt),\n\u001b[0m\u001b[1;32m    852\u001b[0m             \u001b[0mself\u001b[0m\u001b[0;34m.\u001b[0m\u001b[0m_parent_ident\u001b[0m\u001b[0;34m,\u001b[0m\u001b[0;34m\u001b[0m\u001b[0;34m\u001b[0m\u001b[0m\n\u001b[1;32m    853\u001b[0m             \u001b[0mself\u001b[0m\u001b[0;34m.\u001b[0m\u001b[0m_parent_header\u001b[0m\u001b[0;34m,\u001b[0m\u001b[0;34m\u001b[0m\u001b[0;34m\u001b[0m\u001b[0m\n",
            "\u001b[0;32m/usr/local/lib/python3.10/dist-packages/ipykernel/kernelbase.py\u001b[0m in \u001b[0;36m_input_request\u001b[0;34m(self, prompt, ident, parent, password)\u001b[0m\n\u001b[1;32m    893\u001b[0m             \u001b[0;32mexcept\u001b[0m \u001b[0mKeyboardInterrupt\u001b[0m\u001b[0;34m:\u001b[0m\u001b[0;34m\u001b[0m\u001b[0;34m\u001b[0m\u001b[0m\n\u001b[1;32m    894\u001b[0m                 \u001b[0;31m# re-raise KeyboardInterrupt, to truncate traceback\u001b[0m\u001b[0;34m\u001b[0m\u001b[0;34m\u001b[0m\u001b[0m\n\u001b[0;32m--> 895\u001b[0;31m                 \u001b[0;32mraise\u001b[0m \u001b[0mKeyboardInterrupt\u001b[0m\u001b[0;34m(\u001b[0m\u001b[0;34m\"Interrupted by user\"\u001b[0m\u001b[0;34m)\u001b[0m \u001b[0;32mfrom\u001b[0m \u001b[0;32mNone\u001b[0m\u001b[0;34m\u001b[0m\u001b[0;34m\u001b[0m\u001b[0m\n\u001b[0m\u001b[1;32m    896\u001b[0m             \u001b[0;32mexcept\u001b[0m \u001b[0mException\u001b[0m \u001b[0;32mas\u001b[0m \u001b[0me\u001b[0m\u001b[0;34m:\u001b[0m\u001b[0;34m\u001b[0m\u001b[0;34m\u001b[0m\u001b[0m\n\u001b[1;32m    897\u001b[0m                 \u001b[0mself\u001b[0m\u001b[0;34m.\u001b[0m\u001b[0mlog\u001b[0m\u001b[0;34m.\u001b[0m\u001b[0mwarning\u001b[0m\u001b[0;34m(\u001b[0m\u001b[0;34m\"Invalid Message:\"\u001b[0m\u001b[0;34m,\u001b[0m \u001b[0mexc_info\u001b[0m\u001b[0;34m=\u001b[0m\u001b[0;32mTrue\u001b[0m\u001b[0;34m)\u001b[0m\u001b[0;34m\u001b[0m\u001b[0;34m\u001b[0m\u001b[0m\n",
            "\u001b[0;31mKeyboardInterrupt\u001b[0m: Interrupted by user"
          ]
        }
      ],
      "source": [
        "print(\"Welcome to the Interactive Alien Assault Simulator\")\n",
        "print(\"In Cooperation with the government\")\n",
        "print(\"We assume that you have purchased/installed this program due to the alien presence around your school, and you want to know what to do to lower property damage and insurance fees.\")\n",
        "print(\"To start, let's take the Lynn Rose College Campus as the school.\")\n",
        "print(\"Suppose you want to detect if any aliens are near your school. What should you do?\")\n",
        "#The stuff above printed some stuff\n",
        "\n",
        "\n",
        "errlist = []\n",
        "#creates a blank list, which gets filled up with wrong answers\n",
        "\n",
        "#while true creates a reliable loop.\n",
        "while True:\n",
        "    q1a = input(\"Enter your response here: \")\n",
        "    #space for adding responsdes\n",
        "    if \"camera\" in q1a.lower():\n",
        "      #checks for specific words, like camera\n",
        "        print(\"Spot on! Cameras are excellent early warning systems, and can be used to detect aliens long in advance, without distracting the students.\")\n",
        "        break\n",
        "        #when it gets the right answer, it exits the loop and goes to the next questions\n",
        "    elif \"sensors\" in q1a.lower():\n",
        "        print(\"That is also a good way. However, sophisticated sensors may be too expensive for your school to purchase. This cannot always be relied on\")\n",
        "        errlist.append(\"question1\")\n",
        "        #adds the text question1 to the errlist from above. this seems weird but trust me it works out\n",
        "    elif \"look\" in q1a.lower():\n",
        "        print(\"Don't do this. Never needlessly endanger human life.\")\n",
        "        errlist.append(\"question1\")\n",
        "        #adds the text question1 to the errlist from above. this seems weird but trust me it works out\n",
        "    else:\n",
        "        print(\"Incorrect. Try again.\")\n",
        "        errlist.append(\"question1\")\n",
        "        #adds the text question1 to the errlist from above. this seems weird but trust me it works out\n",
        "\n",
        "print(\"Now that you have identified aliens approaching your school, what should you do next? Choose from the options\")\n",
        "print(\"1. Lockdown the school\")\n",
        "print(\"2. Call the police\")\n",
        "print(\"3. Proceed as normal\")\n",
        "#gives you options for the next selection\n",
        "\n",
        "while True:\n",
        "    acsel = input(\"Enter either 1, 2, or 3, to give your selection: \")\n",
        "    if acsel == \"1\":\n",
        "        print(\"Wrong. Never put your students into hiding, unless you have a good strong bunker.\")\n",
        "        errlist.append(\"question2\")\n",
        "        #adds the text question1 to the errlist from above. this seems weird but trust me it works out\n",
        "    elif acsel == \"2\":\n",
        "        print(\"This is a safe bet, but don't rely on the police making a big difference.\")\n",
        "        errlist.append(\"question2\")\n",
        "        #adds the text question1 to the errlist from above. this seems weird but trust me it works out\n",
        "    elif acsel == \"3\":\n",
        "        print(\"Correct. Chances are, aliens detected your cameras long before you saw them. Do not give them the impression that you know they are coming.\")\n",
        "        break\n",
        "    else:\n",
        "        print(\"That is not one of the options.\")\n",
        "        errlist.append(\"question2\")\n",
        "        #adds the text question1 to the errlist from above. this seems weird but trust me it works out\n",
        "\n",
        "print(\"With any luck, the aliens will decide not to attack.\")\n",
        "print(\"However, some aliens are more determined. These are commonly known as 'Yeti' in popular folklore. In real life, they are smaller than the average human.\")\n",
        "print(\"Yetis attempt to enter locations to find food in the winter months.\")\n",
        "print(\"Suppose a Yeti makes its way into a room filled with students. What should the students do?\")\n",
        "print(\"Stay where they are, put on jackets, spray the Yeti with the fire extinguiser.\")\n",
        "print(\"Like last time, use 1, 2, or 3 to give your answer.\")\n",
        "while True:\n",
        "    excel = input(\"Enter selection: \")\n",
        "    if excel == \"1\":\n",
        "        print(\"Wrong. Students should never stay still, with a Yeti in close proximity.\")\n",
        "        errlist.append(\"question3\")\n",
        "        #adds the text question1 to the errlist from above. this seems weird but trust me it works out\n",
        "    elif excel == \"2\":\n",
        "        print(\"Correct answer. This will make the alien fall unconscious due to the excessive heat, making retrieval and containment easier.\")\n",
        "        break\n",
        "    elif excel == \"3\":\n",
        "        print(\"Under no circumstances, do this. The chemicals in the fire extinquisher react violently with the Yeti's bloodstream, causing an explosion. You risk killing the Yeti if you do this, as well as endangering your own students.\")\n",
        "        errlist.append(\"question3\")\n",
        "        #adds the text question1 to the errlist from above. this seems weird but trust me it works out\n",
        "    else:\n",
        "        print(\"That is not one of the options.\")\n",
        "        errlist.append(\"question3\")\n",
        "        #adds the text question1 to the errlist from above. this seems weird but trust me it works out\n",
        "\n",
        "totwrong = len(errlist)\n",
        "#when you get stuff wrong, the amount of wrong stuff in errlist increases by one. the len finds the amount of things in errlist, equating to how many attempts you had in total for the question\n",
        "print(\"You have succeded in this questionnaire, and our organization is hopeful your location is now secure from further Yeti attacks.\")\n",
        "print(f\"It took you {totwrong} attempts to get here.\")\n",
        "#embeds the numerical amount of things in errlist into the string\n",
        "\n",
        "if totwrong > 1:\n",
        "  print(\"Please review the information in this questionnaire.\")\n",
        "elif totwrong < 1:\n",
        "  print(\"Thank you for your patience\")\n",
        "\n",
        "#01101001 00100000 01100100 01101111 01101110 01110100 00100000 01101011 01101110 01101111 01110111 00100000 01110111 01101000 01111001 00100000 01101001 01110100 00100000 01110111 01101111 01110010 01101011 01110011 00101100 00100000 01101001 01110100 00100000 01101010 01110101 01110011 01110100 00100000 01100100 01101111 01100101 01110011 00001010"
      ]
    },
    {
      "cell_type": "code",
      "source": [],
      "metadata": {
        "id": "AQoIEfs0KipE"
      },
      "execution_count": null,
      "outputs": []
    }
  ]
}